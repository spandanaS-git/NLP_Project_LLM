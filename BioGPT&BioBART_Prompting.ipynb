{
 "cells": [
  {
   "cell_type": "code",
   "execution_count": 1,
   "metadata": {
    "colab": {
     "base_uri": "https://localhost:8080/"
    },
    "id": "8ia-B8de76j7",
    "outputId": "dec5f1bf-9e87-477b-aa69-0ea08b4d746f"
   },
   "outputs": [
    {
     "name": "stdout",
     "output_type": "stream",
     "text": [
      "Requirement already satisfied: transformers in /usr/local/lib/python3.11/dist-packages (4.51.3)\n",
      "Requirement already satisfied: filelock in /usr/local/lib/python3.11/dist-packages (from transformers) (3.18.0)\n",
      "Requirement already satisfied: huggingface-hub<1.0,>=0.30.0 in /usr/local/lib/python3.11/dist-packages (from transformers) (0.30.2)\n",
      "Requirement already satisfied: numpy>=1.17 in /usr/local/lib/python3.11/dist-packages (from transformers) (2.0.2)\n",
      "Requirement already satisfied: packaging>=20.0 in /usr/local/lib/python3.11/dist-packages (from transformers) (24.2)\n",
      "Requirement already satisfied: pyyaml>=5.1 in /usr/local/lib/python3.11/dist-packages (from transformers) (6.0.2)\n",
      "Requirement already satisfied: regex!=2019.12.17 in /usr/local/lib/python3.11/dist-packages (from transformers) (2024.11.6)\n",
      "Requirement already satisfied: requests in /usr/local/lib/python3.11/dist-packages (from transformers) (2.32.3)\n",
      "Requirement already satisfied: tokenizers<0.22,>=0.21 in /usr/local/lib/python3.11/dist-packages (from transformers) (0.21.1)\n",
      "Requirement already satisfied: safetensors>=0.4.3 in /usr/local/lib/python3.11/dist-packages (from transformers) (0.5.3)\n",
      "Requirement already satisfied: tqdm>=4.27 in /usr/local/lib/python3.11/dist-packages (from transformers) (4.67.1)\n",
      "Requirement already satisfied: fsspec>=2023.5.0 in /usr/local/lib/python3.11/dist-packages (from huggingface-hub<1.0,>=0.30.0->transformers) (2025.3.2)\n",
      "Requirement already satisfied: typing-extensions>=3.7.4.3 in /usr/local/lib/python3.11/dist-packages (from huggingface-hub<1.0,>=0.30.0->transformers) (4.13.2)\n",
      "Requirement already satisfied: charset-normalizer<4,>=2 in /usr/local/lib/python3.11/dist-packages (from requests->transformers) (3.4.1)\n",
      "Requirement already satisfied: idna<4,>=2.5 in /usr/local/lib/python3.11/dist-packages (from requests->transformers) (3.10)\n",
      "Requirement already satisfied: urllib3<3,>=1.21.1 in /usr/local/lib/python3.11/dist-packages (from requests->transformers) (2.4.0)\n",
      "Requirement already satisfied: certifi>=2017.4.17 in /usr/local/lib/python3.11/dist-packages (from requests->transformers) (2025.1.31)\n"
     ]
    }
   ],
   "source": [
    "!pip install transformers"
   ]
  },
  {
   "cell_type": "code",
   "execution_count": 2,
   "metadata": {
    "colab": {
     "base_uri": "https://localhost:8080/"
    },
    "id": "HlsW2l_F8evK",
    "outputId": "a4b6e5dc-c903-4df5-e2d5-8780b195ae4e"
   },
   "outputs": [
    {
     "name": "stdout",
     "output_type": "stream",
     "text": [
      "Collecting datasets\n",
      "  Downloading datasets-3.5.1-py3-none-any.whl.metadata (19 kB)\n",
      "Requirement already satisfied: filelock in /usr/local/lib/python3.11/dist-packages (from datasets) (3.18.0)\n",
      "Requirement already satisfied: numpy>=1.17 in /usr/local/lib/python3.11/dist-packages (from datasets) (2.0.2)\n",
      "Requirement already satisfied: pyarrow>=15.0.0 in /usr/local/lib/python3.11/dist-packages (from datasets) (18.1.0)\n",
      "Collecting dill<0.3.9,>=0.3.0 (from datasets)\n",
      "  Downloading dill-0.3.8-py3-none-any.whl.metadata (10 kB)\n",
      "Requirement already satisfied: pandas in /usr/local/lib/python3.11/dist-packages (from datasets) (2.2.2)\n",
      "Requirement already satisfied: requests>=2.32.2 in /usr/local/lib/python3.11/dist-packages (from datasets) (2.32.3)\n",
      "Requirement already satisfied: tqdm>=4.66.3 in /usr/local/lib/python3.11/dist-packages (from datasets) (4.67.1)\n",
      "Collecting xxhash (from datasets)\n",
      "  Downloading xxhash-3.5.0-cp311-cp311-manylinux_2_17_x86_64.manylinux2014_x86_64.whl.metadata (12 kB)\n",
      "Collecting multiprocess<0.70.17 (from datasets)\n",
      "  Downloading multiprocess-0.70.16-py311-none-any.whl.metadata (7.2 kB)\n",
      "Collecting fsspec<=2025.3.0,>=2023.1.0 (from fsspec[http]<=2025.3.0,>=2023.1.0->datasets)\n",
      "  Downloading fsspec-2025.3.0-py3-none-any.whl.metadata (11 kB)\n",
      "Requirement already satisfied: aiohttp in /usr/local/lib/python3.11/dist-packages (from datasets) (3.11.15)\n",
      "Requirement already satisfied: huggingface-hub>=0.24.0 in /usr/local/lib/python3.11/dist-packages (from datasets) (0.30.2)\n",
      "Requirement already satisfied: packaging in /usr/local/lib/python3.11/dist-packages (from datasets) (24.2)\n",
      "Requirement already satisfied: pyyaml>=5.1 in /usr/local/lib/python3.11/dist-packages (from datasets) (6.0.2)\n",
      "Requirement already satisfied: aiohappyeyeballs>=2.3.0 in /usr/local/lib/python3.11/dist-packages (from aiohttp->datasets) (2.6.1)\n",
      "Requirement already satisfied: aiosignal>=1.1.2 in /usr/local/lib/python3.11/dist-packages (from aiohttp->datasets) (1.3.2)\n",
      "Requirement already satisfied: attrs>=17.3.0 in /usr/local/lib/python3.11/dist-packages (from aiohttp->datasets) (25.3.0)\n",
      "Requirement already satisfied: frozenlist>=1.1.1 in /usr/local/lib/python3.11/dist-packages (from aiohttp->datasets) (1.6.0)\n",
      "Requirement already satisfied: multidict<7.0,>=4.5 in /usr/local/lib/python3.11/dist-packages (from aiohttp->datasets) (6.4.3)\n",
      "Requirement already satisfied: propcache>=0.2.0 in /usr/local/lib/python3.11/dist-packages (from aiohttp->datasets) (0.3.1)\n",
      "Requirement already satisfied: yarl<2.0,>=1.17.0 in /usr/local/lib/python3.11/dist-packages (from aiohttp->datasets) (1.20.0)\n",
      "Requirement already satisfied: typing-extensions>=3.7.4.3 in /usr/local/lib/python3.11/dist-packages (from huggingface-hub>=0.24.0->datasets) (4.13.2)\n",
      "Requirement already satisfied: charset-normalizer<4,>=2 in /usr/local/lib/python3.11/dist-packages (from requests>=2.32.2->datasets) (3.4.1)\n",
      "Requirement already satisfied: idna<4,>=2.5 in /usr/local/lib/python3.11/dist-packages (from requests>=2.32.2->datasets) (3.10)\n",
      "Requirement already satisfied: urllib3<3,>=1.21.1 in /usr/local/lib/python3.11/dist-packages (from requests>=2.32.2->datasets) (2.4.0)\n",
      "Requirement already satisfied: certifi>=2017.4.17 in /usr/local/lib/python3.11/dist-packages (from requests>=2.32.2->datasets) (2025.1.31)\n",
      "Requirement already satisfied: python-dateutil>=2.8.2 in /usr/local/lib/python3.11/dist-packages (from pandas->datasets) (2.9.0.post0)\n",
      "Requirement already satisfied: pytz>=2020.1 in /usr/local/lib/python3.11/dist-packages (from pandas->datasets) (2025.2)\n",
      "Requirement already satisfied: tzdata>=2022.7 in /usr/local/lib/python3.11/dist-packages (from pandas->datasets) (2025.2)\n",
      "Requirement already satisfied: six>=1.5 in /usr/local/lib/python3.11/dist-packages (from python-dateutil>=2.8.2->pandas->datasets) (1.17.0)\n",
      "Downloading datasets-3.5.1-py3-none-any.whl (491 kB)\n",
      "\u001b[2K   \u001b[90m━━━━━━━━━━━━━━━━━━━━━━━━━━━━━━━━━━━━━━━━\u001b[0m \u001b[32m491.4/491.4 kB\u001b[0m \u001b[31m32.2 MB/s\u001b[0m eta \u001b[36m0:00:00\u001b[0m\n",
      "\u001b[?25hDownloading dill-0.3.8-py3-none-any.whl (116 kB)\n",
      "\u001b[2K   \u001b[90m━━━━━━━━━━━━━━━━━━━━━━━━━━━━━━━━━━━━━━━━\u001b[0m \u001b[32m116.3/116.3 kB\u001b[0m \u001b[31m11.7 MB/s\u001b[0m eta \u001b[36m0:00:00\u001b[0m\n",
      "\u001b[?25hDownloading fsspec-2025.3.0-py3-none-any.whl (193 kB)\n",
      "\u001b[2K   \u001b[90m━━━━━━━━━━━━━━━━━━━━━━━━━━━━━━━━━━━━━━━━\u001b[0m \u001b[32m193.6/193.6 kB\u001b[0m \u001b[31m19.6 MB/s\u001b[0m eta \u001b[36m0:00:00\u001b[0m\n",
      "\u001b[?25hDownloading multiprocess-0.70.16-py311-none-any.whl (143 kB)\n",
      "\u001b[2K   \u001b[90m━━━━━━━━━━━━━━━━━━━━━━━━━━━━━━━━━━━━━━━━\u001b[0m \u001b[32m143.5/143.5 kB\u001b[0m \u001b[31m13.0 MB/s\u001b[0m eta \u001b[36m0:00:00\u001b[0m\n",
      "\u001b[?25hDownloading xxhash-3.5.0-cp311-cp311-manylinux_2_17_x86_64.manylinux2014_x86_64.whl (194 kB)\n",
      "\u001b[2K   \u001b[90m━━━━━━━━━━━━━━━━━━━━━━━━━━━━━━━━━━━━━━━━\u001b[0m \u001b[32m194.8/194.8 kB\u001b[0m \u001b[31m12.8 MB/s\u001b[0m eta \u001b[36m0:00:00\u001b[0m\n",
      "\u001b[?25hInstalling collected packages: xxhash, fsspec, dill, multiprocess, datasets\n",
      "  Attempting uninstall: fsspec\n",
      "    Found existing installation: fsspec 2025.3.2\n",
      "    Uninstalling fsspec-2025.3.2:\n",
      "      Successfully uninstalled fsspec-2025.3.2\n",
      "\u001b[31mERROR: pip's dependency resolver does not currently take into account all the packages that are installed. This behaviour is the source of the following dependency conflicts.\n",
      "torch 2.6.0+cu124 requires nvidia-cublas-cu12==12.4.5.8; platform_system == \"Linux\" and platform_machine == \"x86_64\", but you have nvidia-cublas-cu12 12.5.3.2 which is incompatible.\n",
      "torch 2.6.0+cu124 requires nvidia-cuda-cupti-cu12==12.4.127; platform_system == \"Linux\" and platform_machine == \"x86_64\", but you have nvidia-cuda-cupti-cu12 12.5.82 which is incompatible.\n",
      "torch 2.6.0+cu124 requires nvidia-cuda-nvrtc-cu12==12.4.127; platform_system == \"Linux\" and platform_machine == \"x86_64\", but you have nvidia-cuda-nvrtc-cu12 12.5.82 which is incompatible.\n",
      "torch 2.6.0+cu124 requires nvidia-cuda-runtime-cu12==12.4.127; platform_system == \"Linux\" and platform_machine == \"x86_64\", but you have nvidia-cuda-runtime-cu12 12.5.82 which is incompatible.\n",
      "torch 2.6.0+cu124 requires nvidia-cudnn-cu12==9.1.0.70; platform_system == \"Linux\" and platform_machine == \"x86_64\", but you have nvidia-cudnn-cu12 9.3.0.75 which is incompatible.\n",
      "torch 2.6.0+cu124 requires nvidia-cufft-cu12==11.2.1.3; platform_system == \"Linux\" and platform_machine == \"x86_64\", but you have nvidia-cufft-cu12 11.2.3.61 which is incompatible.\n",
      "torch 2.6.0+cu124 requires nvidia-curand-cu12==10.3.5.147; platform_system == \"Linux\" and platform_machine == \"x86_64\", but you have nvidia-curand-cu12 10.3.6.82 which is incompatible.\n",
      "torch 2.6.0+cu124 requires nvidia-cusolver-cu12==11.6.1.9; platform_system == \"Linux\" and platform_machine == \"x86_64\", but you have nvidia-cusolver-cu12 11.6.3.83 which is incompatible.\n",
      "torch 2.6.0+cu124 requires nvidia-cusparse-cu12==12.3.1.170; platform_system == \"Linux\" and platform_machine == \"x86_64\", but you have nvidia-cusparse-cu12 12.5.1.3 which is incompatible.\n",
      "torch 2.6.0+cu124 requires nvidia-nvjitlink-cu12==12.4.127; platform_system == \"Linux\" and platform_machine == \"x86_64\", but you have nvidia-nvjitlink-cu12 12.5.82 which is incompatible.\n",
      "gcsfs 2025.3.2 requires fsspec==2025.3.2, but you have fsspec 2025.3.0 which is incompatible.\u001b[0m\u001b[31m\n",
      "\u001b[0mSuccessfully installed datasets-3.5.1 dill-0.3.8 fsspec-2025.3.0 multiprocess-0.70.16 xxhash-3.5.0\n"
     ]
    }
   ],
   "source": [
    "!pip install datasets"
   ]
  },
  {
   "cell_type": "code",
   "execution_count": 3,
   "metadata": {
    "colab": {
     "base_uri": "https://localhost:8080/"
    },
    "id": "Ga5Sm41lr_BB",
    "outputId": "75b3fe38-d155-42b0-f9da-9fcfccf6ff0b"
   },
   "outputs": [
    {
     "name": "stdout",
     "output_type": "stream",
     "text": [
      "Collecting sacremoses\n",
      "  Downloading sacremoses-0.1.1-py3-none-any.whl.metadata (8.3 kB)\n",
      "Requirement already satisfied: regex in /usr/local/lib/python3.11/dist-packages (from sacremoses) (2024.11.6)\n",
      "Requirement already satisfied: click in /usr/local/lib/python3.11/dist-packages (from sacremoses) (8.1.8)\n",
      "Requirement already satisfied: joblib in /usr/local/lib/python3.11/dist-packages (from sacremoses) (1.4.2)\n",
      "Requirement already satisfied: tqdm in /usr/local/lib/python3.11/dist-packages (from sacremoses) (4.67.1)\n",
      "Downloading sacremoses-0.1.1-py3-none-any.whl (897 kB)\n",
      "\u001b[?25l   \u001b[90m━━━━━━━━━━━━━━━━━━━━━━━━━━━━━━━━━━━━━━━━\u001b[0m \u001b[32m0.0/897.5 kB\u001b[0m \u001b[31m?\u001b[0m eta \u001b[36m-:--:--\u001b[0m\r",
      "\u001b[2K   \u001b[90m━━━━━━━━━━━━━━━━━━━━━━━━━━━━━━━━━━━━━━━━\u001b[0m \u001b[32m897.5/897.5 kB\u001b[0m \u001b[31m29.5 MB/s\u001b[0m eta \u001b[36m0:00:00\u001b[0m\n",
      "\u001b[?25hInstalling collected packages: sacremoses\n",
      "Successfully installed sacremoses-0.1.1\n"
     ]
    }
   ],
   "source": [
    "!pip install sacremoses"
   ]
  },
  {
   "cell_type": "code",
   "execution_count": 4,
   "metadata": {
    "id": "-aHp8OsUsHJ3"
   },
   "outputs": [],
   "source": [
    "from datasets import load_dataset\n",
    "import pandas as pd\n",
    "import torch\n",
    "import numpy as np\n",
    "import torch.nn as nn\n",
    "import matplotlib.pyplot as plt\n",
    "from transformers import (\n",
    "    AutoTokenizer,\n",
    "    AutoModel,\n",
    "    AutoModelForCausalLM,\n",
    "    Trainer,\n",
    "    TrainingArguments,\n",
    "    get_scheduler,\n",
    "    AutoModelForMultipleChoice,\n",
    "    AutoConfig,\n",
    "    AutoModelForSeq2SeqLM,\n",
    "    DataCollatorForSeq2Seq,\n",
    "    Seq2SeqTrainer,\n",
    "    Seq2SeqTrainingArguments\n",
    ")\n",
    "from sentence_transformers import SentenceTransformer, util\n",
    "from sklearn.metrics import classification_report, confusion_matrix, accuracy_score, ConfusionMatrixDisplay\n",
    "from torch.utils.data import Dataset, DataLoader\n",
    "from torch.optim import AdamW\n",
    "from tqdm import tqdm\n",
    "import seaborn as sns\n",
    "\n",
    "\n",
    "import openai\n",
    "\n",
    "import random\n",
    "import re\n",
    "\n",
    "import os\n",
    "import google.generativeai as genai\n",
    "\n"
   ]
  },
  {
   "cell_type": "code",
   "execution_count": 5,
   "metadata": {
    "colab": {
     "base_uri": "https://localhost:8080/",
     "height": 620,
     "referenced_widgets": [
      "072b993324174832b841a18f02e16e7a",
      "b6e5fcaef38b4fc58e6f0f9fb35a40d9",
      "dd8fd109d1da43dcb6aa73c3d1bd66c3",
      "1194c8e0de224829868dc86d908f1f0a",
      "726ff6b4830f45b2bda28881fc69aa1b",
      "f71cb5b887f6468bbce2792b3725a1af",
      "0dea99b20d1b4d64be68ef789ea4de52",
      "2fcb6154c46546fe853a054222dab245",
      "b92cc234ce084adab8b9f44adca51f4d",
      "719070ec5f8b46c0bdef50d9320ceba2",
      "fb95e9bbb1504279905b43c22381f002",
      "7e73082e5f4142c48c9f600bc4aa6d99",
      "71eb265bfa514d7696ef911a0abf8911",
      "c3d2b13c402844038cb3d2d2badfbe21",
      "e535a7402c3a40668f9070bed9993de9",
      "2b59ec5c74ad4d7796c57e34ead07bcb",
      "64a13c723f954f3ab870c8a6a722e04e",
      "7918f45b621e48f8a487be40517d63bd",
      "b2b8c290a7c940a895e2d103a9082583",
      "169eb563395f4f4f8e5704d9a1ccedf0",
      "f95506a303ac4a86ade917f1b2f2aab2",
      "1c0fa35266694823b6c4b2b6878db699",
      "fedc4cd8c49b46ada5cfeb7cf0b3195e",
      "04b78acc004449d2bca93c841eaf1048",
      "76e766c25f0945ffaed2e601264f74d8",
      "818946459d784999bfeeefed2ff25c58",
      "87e46844d9b04b2994a1be34c7b9b9f3",
      "f62879a952e1412b8a5520f071b59cce",
      "80637bda15094162ac63680756f4d532",
      "0002131d812546d9823b6e3196e73aed",
      "344ec5ba77364fa49942015b0bdce995",
      "178920604fea468987c83315fdd9b853",
      "d1a738ce902c4f748d5ce863cb41a611",
      "e107002361754975845e989e9417c4fa",
      "d899520e921242be81dd3e1147af3f58",
      "1d9ceb5d56da43619b8e0ca381f6e315",
      "a5d4e5ea130e4205ad78b2a1184c531b",
      "a9e7de6e3bb94e38a9682b4af78eaaae",
      "5e952c299cd046668845b7cde764484b",
      "97570bc714614d1892a233b2ffe7fdb1",
      "11b3b83e9ef64cc8ae970c83938fa501",
      "0a0b700726db4593bc7b85af7bff56f0",
      "a10cef7313ba4e7ea7cba964dbb01572",
      "17ae59fc72e34a6b8feefd7edb46ceae",
      "ab5fff247c1940cca381f822d894a9e6",
      "5e0b8013110b4a80b0e2a9a6a972fde5",
      "8f1e901974b947e28a90f20a48af0cd0",
      "cb7d2e30c96045ce8a9f629e6cbd0894",
      "97e145843e5c40fc836efc20451d3cc4",
      "6d0a0c5791f14d9798e9a2721eaf91f7",
      "282b0416673142288462c60b0c02b1db",
      "ff498ee9d89948bb821cac9df0f7f22a",
      "6f13322642484d919ef7b2808668041f",
      "5591a23c63be4d58ac63d24cec2755dd",
      "20ee6da64f634e7f859bec13537d8165",
      "5bb4cafc56834aa7be94d205e65d4c7d",
      "75cd7a70068f41f78fa4bf3df93f86a8",
      "95aa7e5a3d4c4b128105ad5648d935b2",
      "0d4f8673269d42d38bbed8bd56822c48",
      "d47f188c1bad41beb156505a4e32963e",
      "0a7eebdc66634f7fa6576bf87c58de75",
      "d105f9a8c4e8463493ccd40f66818d62",
      "680fb1506bdc439a9ea7f23048eb4e79",
      "11ae12aa7c3a4c13a40dfdf4e461fd48",
      "e4101b420c4b43d286fb108dc0210968",
      "545f3f2dc599471aa013111a57127934",
      "13be727800554d41a60090655e5d3935",
      "b4ea0a59e4cb402bbfd6272f5e5cee5f",
      "ca5e64dda4e64c4787eaa127a6e3d8ec",
      "f90184b2a88045f38e69bca8aa614c6e",
      "2f3eb112e5d343ef9000ef2c133c0559",
      "42c15da2a18f44cba5e43cd18c52d9c3",
      "12f9283c41654cecaf133e9e1ea60db7",
      "668f7a189d444c129db94968b045ad62",
      "61effc88271b4c048711b074160840b5",
      "3ffed8d348f64659970453e4419030f0",
      "609151b2cad040ccad892ca1695beec3",
      "187e3def1f304956a6e941ff42f68932",
      "2ccad0b43e3b419787bf473348fa7a87",
      "9a48274c73984fd087eb8edd10ad594b",
      "8b63cfed7da24b6595835c52d1f5d963",
      "17b5df6f4257446bad107a4ff2ede5eb",
      "233b2420c8474d3ca01ddf2331e64316",
      "06d15194fc8a462f800103f4810d456e",
      "223e26c804b24ea698d6d504fbf74d1e",
      "844959a1cd494155b29d36683f41baeb",
      "0c01e7784fec4b9485f10d1a2a0c32b1",
      "d16e12a8ebf049c9adc1aef43e695aff"
     ]
    },
    "id": "gp3PvdtY73nk",
    "outputId": "ba4784ae-0d25-430f-84b8-71a2a0967192"
   },
   "outputs": [
    {
     "name": "stderr",
     "output_type": "stream",
     "text": [
      "/usr/local/lib/python3.11/dist-packages/huggingface_hub/utils/_auth.py:94: UserWarning: \n",
      "The secret `HF_TOKEN` does not exist in your Colab secrets.\n",
      "To authenticate with the Hugging Face Hub, create a token in your settings tab (https://huggingface.co/settings/tokens), set it as secret in your Google Colab and restart your session.\n",
      "You will be able to reuse this secret in all of your notebooks.\n",
      "Please note that authentication is recommended but still optional to access public models or datasets.\n",
      "  warnings.warn(\n"
     ]
    },
    {
     "data": {
      "application/vnd.jupyter.widget-view+json": {
       "model_id": "072b993324174832b841a18f02e16e7a",
       "version_major": 2,
       "version_minor": 0
      },
      "text/plain": [
       "README.md:   0%|          | 0.00/21.0 [00:00<?, ?B/s]"
      ]
     },
     "metadata": {},
     "output_type": "display_data"
    },
    {
     "data": {
      "application/vnd.jupyter.widget-view+json": {
       "model_id": "7e73082e5f4142c48c9f600bc4aa6d99",
       "version_major": 2,
       "version_minor": 0
      },
      "text/plain": [
       "medqa.py:   0%|          | 0.00/5.45k [00:00<?, ?B/s]"
      ]
     },
     "metadata": {},
     "output_type": "display_data"
    },
    {
     "data": {
      "application/vnd.jupyter.widget-view+json": {
       "model_id": "fedc4cd8c49b46ada5cfeb7cf0b3195e",
       "version_major": 2,
       "version_minor": 0
      },
      "text/plain": [
       "0000.parquet:   0%|          | 0.00/7.69M [00:00<?, ?B/s]"
      ]
     },
     "metadata": {},
     "output_type": "display_data"
    },
    {
     "data": {
      "application/vnd.jupyter.widget-view+json": {
       "model_id": "e107002361754975845e989e9417c4fa",
       "version_major": 2,
       "version_minor": 0
      },
      "text/plain": [
       "0000.parquet:   0%|          | 0.00/964k [00:00<?, ?B/s]"
      ]
     },
     "metadata": {},
     "output_type": "display_data"
    },
    {
     "data": {
      "application/vnd.jupyter.widget-view+json": {
       "model_id": "ab5fff247c1940cca381f822d894a9e6",
       "version_major": 2,
       "version_minor": 0
      },
      "text/plain": [
       "0000.parquet:   0%|          | 0.00/997k [00:00<?, ?B/s]"
      ]
     },
     "metadata": {},
     "output_type": "display_data"
    },
    {
     "data": {
      "application/vnd.jupyter.widget-view+json": {
       "model_id": "5bb4cafc56834aa7be94d205e65d4c7d",
       "version_major": 2,
       "version_minor": 0
      },
      "text/plain": [
       "Generating train split:   0%|          | 0/10178 [00:00<?, ? examples/s]"
      ]
     },
     "metadata": {},
     "output_type": "display_data"
    },
    {
     "data": {
      "application/vnd.jupyter.widget-view+json": {
       "model_id": "13be727800554d41a60090655e5d3935",
       "version_major": 2,
       "version_minor": 0
      },
      "text/plain": [
       "Generating validation split:   0%|          | 0/1272 [00:00<?, ? examples/s]"
      ]
     },
     "metadata": {},
     "output_type": "display_data"
    },
    {
     "data": {
      "application/vnd.jupyter.widget-view+json": {
       "model_id": "187e3def1f304956a6e941ff42f68932",
       "version_major": 2,
       "version_minor": 0
      },
      "text/plain": [
       "Generating test split:   0%|          | 0/1273 [00:00<?, ? examples/s]"
      ]
     },
     "metadata": {},
     "output_type": "display_data"
    },
    {
     "name": "stdout",
     "output_type": "stream",
     "text": [
      "DatasetDict({\n",
      "    train: Dataset({\n",
      "        features: ['idx', 'uid', 'question', 'metamap', 'target', 'answers'],\n",
      "        num_rows: 10178\n",
      "    })\n",
      "    validation: Dataset({\n",
      "        features: ['idx', 'uid', 'question', 'metamap', 'target', 'answers'],\n",
      "        num_rows: 1272\n",
      "    })\n",
      "    test: Dataset({\n",
      "        features: ['idx', 'uid', 'question', 'metamap', 'target', 'answers'],\n",
      "        num_rows: 1273\n",
      "    })\n",
      "})\n"
     ]
    }
   ],
   "source": [
    "\n",
    "# Load the MedQA dataset (US version)\n",
    "dataset = load_dataset(\"VodLM/medqa\", \"us\")\n",
    "\n",
    "# Check available splits\n",
    "print(dataset)\n"
   ]
  },
  {
   "cell_type": "code",
   "execution_count": 6,
   "metadata": {
    "id": "IJ0H8aXS79ef"
   },
   "outputs": [],
   "source": [
    "\n",
    "# Convert dataset to pandas DataFrame\n",
    "train_data = dataset[\"train\"].to_pandas()\n",
    "test_data = dataset[\"test\"].to_pandas()\n",
    "validation_data = dataset[\"validation\"].to_pandas()\n",
    "\n",
    "\n"
   ]
  },
  {
   "cell_type": "code",
   "execution_count": 7,
   "metadata": {
    "colab": {
     "base_uri": "https://localhost:8080/",
     "height": 206
    },
    "id": "5oOg0IcY8BcB",
    "outputId": "381ec2e9-967b-45ab-f8a4-cb864cff6f41"
   },
   "outputs": [
    {
     "data": {
      "application/vnd.google.colaboratory.intrinsic+json": {
       "summary": "{\n  \"name\": \"train_data\",\n  \"rows\": 10178,\n  \"fields\": [\n    {\n      \"column\": \"idx\",\n      \"properties\": {\n        \"dtype\": \"int32\",\n        \"num_unique_values\": 10178,\n        \"samples\": [\n          8505,\n          3130,\n          718\n        ],\n        \"semantic_type\": \"\",\n        \"description\": \"\"\n      }\n    },\n    {\n      \"column\": \"uid\",\n      \"properties\": {\n        \"dtype\": \"string\",\n        \"num_unique_values\": 10178,\n        \"samples\": [\n          \"train-8505\",\n          \"train-3130\",\n          \"train-718\"\n        ],\n        \"semantic_type\": \"\",\n        \"description\": \"\"\n      }\n    },\n    {\n      \"column\": \"question\",\n      \"properties\": {\n        \"dtype\": \"string\",\n        \"num_unique_values\": 10176,\n        \"samples\": [\n          \"A 67-year-old man presents to the emergency department after a suicide attempt. The patient was found in his apartment by his grandson with wrist lacerations. He was rushed to the emergency department and was resuscitated en route. The patient has a past medical history of ischemic heart disease and depression. His pulse is barely palpable and he is not responding to questions coherently. His temperature is 98.2\\u00b0F (36.8\\u00b0C), blood pressure is 107/48 mmHg, pulse is 160/min, respirations are 14/min, and oxygen saturation is 99% on room air. The patient is started on blood products and his blood pressure improves to 127/55 mmHg after 3 units of blood. On physical exam, the patient complains of numbness surrounding his mouth and pain in the location of the lacerations of his wrists. Which of the following best describes the laboratory findings in this patient?\",\n          \"A healthy 31-year-old woman comes to the physician because she is trying to conceive. She is currently timing the frequency of intercourse with at-home ovulation test kits. An increase in the levels of which of the following is the best indicator that ovulation has occurred?\",\n          \"A 14-year-old boy is rushed to the emergency room after he became disoriented at home. His parents say that the boy was doing well until 2 days ago when he got sick and vomited several times. They thought he was recovering but today he appeared to be disoriented since the morning. His vitals are normal except shallow rapid breathing at a rate of 33/min. His blood sugar level is 654 mg/dL and urine is positive for ketone bodies. He is diagnosed with diabetic ketoacidosis and is managed with fluids and insulin. He responds well to the therapy. His parents are told that their son has type 1 diabetes and insulin therapy options are being discussed. Which of the following types of insulin can be used in this patient for the rapid action required during mealtimes?\"\n        ],\n        \"semantic_type\": \"\",\n        \"description\": \"\"\n      }\n    },\n    {\n      \"column\": \"metamap\",\n      \"properties\": {\n        \"dtype\": \"string\",\n        \"num_unique_values\": 10175,\n        \"samples\": [\n          \"62 year old woman type 2 diabetes mellitus physician 3 month history fatigue weakness hemoglobin concentration weeks blood pressure mm Hg Examination shows lower extremity edema Serum studies show K 5 mEq Phosphorus mg dL Urea nitrogen Creatinine 2 following best parameter early detection patients renal\",\n          \"year old teenager presents clinic parents headaches loss of vision began months headaches throbbing mostly forehead severe to affect daily activities not menarche Past medical history takes medication parents alive well Today blood pressure 70 mm Hg heart rate 90 min respiratory rate min temperature 98 Breasts pubic hair development Tanner Blood work collected MRI performed result shown Inhibition following hormones most likely explanation patient's signs symptoms\",\n          \"A 10 year old boy Sri Lanka suffers autosomal dominant condition hyperimmunoglobulinemia eosinophilia suffers recurrent infections takes antibiotic chemoprophylaxis STAT3 mutation analysis performed to confirm diagnosis Job syndrome Eosinophilia Eczema Hay fever Atopic dermatitis Recurrent skin lung infections Bronchial asthma combination symptoms characteristic condition\"\n        ],\n        \"semantic_type\": \"\",\n        \"description\": \"\"\n      }\n    },\n    {\n      \"column\": \"target\",\n      \"properties\": {\n        \"dtype\": \"int32\",\n        \"num_unique_values\": 4,\n        \"samples\": [\n          0,\n          1,\n          3\n        ],\n        \"semantic_type\": \"\",\n        \"description\": \"\"\n      }\n    },\n    {\n      \"column\": \"answers\",\n      \"properties\": {\n        \"dtype\": \"object\",\n        \"semantic_type\": \"\",\n        \"description\": \"\"\n      }\n    }\n  ]\n}",
       "type": "dataframe",
       "variable_name": "train_data"
      },
      "text/html": [
       "\n",
       "  <div id=\"df-0e319ee6-ebb6-4067-9333-fed1d8e6f629\" class=\"colab-df-container\">\n",
       "    <div>\n",
       "<style scoped>\n",
       "    .dataframe tbody tr th:only-of-type {\n",
       "        vertical-align: middle;\n",
       "    }\n",
       "\n",
       "    .dataframe tbody tr th {\n",
       "        vertical-align: top;\n",
       "    }\n",
       "\n",
       "    .dataframe thead th {\n",
       "        text-align: right;\n",
       "    }\n",
       "</style>\n",
       "<table border=\"1\" class=\"dataframe\">\n",
       "  <thead>\n",
       "    <tr style=\"text-align: right;\">\n",
       "      <th></th>\n",
       "      <th>idx</th>\n",
       "      <th>uid</th>\n",
       "      <th>question</th>\n",
       "      <th>metamap</th>\n",
       "      <th>target</th>\n",
       "      <th>answers</th>\n",
       "    </tr>\n",
       "  </thead>\n",
       "  <tbody>\n",
       "    <tr>\n",
       "      <th>0</th>\n",
       "      <td>0</td>\n",
       "      <td>train-0</td>\n",
       "      <td>A 23-year-old pregnant woman at 22 weeks gesta...</td>\n",
       "      <td>23 year old pregnant woman weeks presents burn...</td>\n",
       "      <td>3</td>\n",
       "      <td>[Ampicillin, Ceftriaxone, Doxycycline, Nitrofu...</td>\n",
       "    </tr>\n",
       "    <tr>\n",
       "      <th>1</th>\n",
       "      <td>1</td>\n",
       "      <td>train-1</td>\n",
       "      <td>A 3-month-old baby died suddenly at night whil...</td>\n",
       "      <td>3 month old baby died night asleep mother died...</td>\n",
       "      <td>0</td>\n",
       "      <td>[Placing the infant in a supine position on a ...</td>\n",
       "    </tr>\n",
       "    <tr>\n",
       "      <th>2</th>\n",
       "      <td>2</td>\n",
       "      <td>train-2</td>\n",
       "      <td>A mother brings her 3-week-old infant to the p...</td>\n",
       "      <td>mother week old infant pediatrician's office c...</td>\n",
       "      <td>0</td>\n",
       "      <td>[Abnormal migration of ventral pancreatic bud,...</td>\n",
       "    </tr>\n",
       "    <tr>\n",
       "      <th>3</th>\n",
       "      <td>3</td>\n",
       "      <td>train-3</td>\n",
       "      <td>A pulmonary autopsy specimen from a 58-year-ol...</td>\n",
       "      <td>pulmonary autopsy specimen 58 year old woman d...</td>\n",
       "      <td>0</td>\n",
       "      <td>[Thromboembolism, Pulmonary ischemia, Pulmonar...</td>\n",
       "    </tr>\n",
       "    <tr>\n",
       "      <th>4</th>\n",
       "      <td>4</td>\n",
       "      <td>train-4</td>\n",
       "      <td>A 20-year-old woman presents with menorrhagia ...</td>\n",
       "      <td>20 year old woman presents menorrhagia past ye...</td>\n",
       "      <td>3</td>\n",
       "      <td>[Hemophilia A, Lupus anticoagulant, Protein C ...</td>\n",
       "    </tr>\n",
       "  </tbody>\n",
       "</table>\n",
       "</div>\n",
       "    <div class=\"colab-df-buttons\">\n",
       "\n",
       "  <div class=\"colab-df-container\">\n",
       "    <button class=\"colab-df-convert\" onclick=\"convertToInteractive('df-0e319ee6-ebb6-4067-9333-fed1d8e6f629')\"\n",
       "            title=\"Convert this dataframe to an interactive table.\"\n",
       "            style=\"display:none;\">\n",
       "\n",
       "  <svg xmlns=\"http://www.w3.org/2000/svg\" height=\"24px\" viewBox=\"0 -960 960 960\">\n",
       "    <path d=\"M120-120v-720h720v720H120Zm60-500h600v-160H180v160Zm220 220h160v-160H400v160Zm0 220h160v-160H400v160ZM180-400h160v-160H180v160Zm440 0h160v-160H620v160ZM180-180h160v-160H180v160Zm440 0h160v-160H620v160Z\"/>\n",
       "  </svg>\n",
       "    </button>\n",
       "\n",
       "  <style>\n",
       "    .colab-df-container {\n",
       "      display:flex;\n",
       "      gap: 12px;\n",
       "    }\n",
       "\n",
       "    .colab-df-convert {\n",
       "      background-color: #E8F0FE;\n",
       "      border: none;\n",
       "      border-radius: 50%;\n",
       "      cursor: pointer;\n",
       "      display: none;\n",
       "      fill: #1967D2;\n",
       "      height: 32px;\n",
       "      padding: 0 0 0 0;\n",
       "      width: 32px;\n",
       "    }\n",
       "\n",
       "    .colab-df-convert:hover {\n",
       "      background-color: #E2EBFA;\n",
       "      box-shadow: 0px 1px 2px rgba(60, 64, 67, 0.3), 0px 1px 3px 1px rgba(60, 64, 67, 0.15);\n",
       "      fill: #174EA6;\n",
       "    }\n",
       "\n",
       "    .colab-df-buttons div {\n",
       "      margin-bottom: 4px;\n",
       "    }\n",
       "\n",
       "    [theme=dark] .colab-df-convert {\n",
       "      background-color: #3B4455;\n",
       "      fill: #D2E3FC;\n",
       "    }\n",
       "\n",
       "    [theme=dark] .colab-df-convert:hover {\n",
       "      background-color: #434B5C;\n",
       "      box-shadow: 0px 1px 3px 1px rgba(0, 0, 0, 0.15);\n",
       "      filter: drop-shadow(0px 1px 2px rgba(0, 0, 0, 0.3));\n",
       "      fill: #FFFFFF;\n",
       "    }\n",
       "  </style>\n",
       "\n",
       "    <script>\n",
       "      const buttonEl =\n",
       "        document.querySelector('#df-0e319ee6-ebb6-4067-9333-fed1d8e6f629 button.colab-df-convert');\n",
       "      buttonEl.style.display =\n",
       "        google.colab.kernel.accessAllowed ? 'block' : 'none';\n",
       "\n",
       "      async function convertToInteractive(key) {\n",
       "        const element = document.querySelector('#df-0e319ee6-ebb6-4067-9333-fed1d8e6f629');\n",
       "        const dataTable =\n",
       "          await google.colab.kernel.invokeFunction('convertToInteractive',\n",
       "                                                    [key], {});\n",
       "        if (!dataTable) return;\n",
       "\n",
       "        const docLinkHtml = 'Like what you see? Visit the ' +\n",
       "          '<a target=\"_blank\" href=https://colab.research.google.com/notebooks/data_table.ipynb>data table notebook</a>'\n",
       "          + ' to learn more about interactive tables.';\n",
       "        element.innerHTML = '';\n",
       "        dataTable['output_type'] = 'display_data';\n",
       "        await google.colab.output.renderOutput(dataTable, element);\n",
       "        const docLink = document.createElement('div');\n",
       "        docLink.innerHTML = docLinkHtml;\n",
       "        element.appendChild(docLink);\n",
       "      }\n",
       "    </script>\n",
       "  </div>\n",
       "\n",
       "\n",
       "    <div id=\"df-2486b557-cdd0-40e9-913e-a1490f6cd40f\">\n",
       "      <button class=\"colab-df-quickchart\" onclick=\"quickchart('df-2486b557-cdd0-40e9-913e-a1490f6cd40f')\"\n",
       "                title=\"Suggest charts\"\n",
       "                style=\"display:none;\">\n",
       "\n",
       "<svg xmlns=\"http://www.w3.org/2000/svg\" height=\"24px\"viewBox=\"0 0 24 24\"\n",
       "     width=\"24px\">\n",
       "    <g>\n",
       "        <path d=\"M19 3H5c-1.1 0-2 .9-2 2v14c0 1.1.9 2 2 2h14c1.1 0 2-.9 2-2V5c0-1.1-.9-2-2-2zM9 17H7v-7h2v7zm4 0h-2V7h2v10zm4 0h-2v-4h2v4z\"/>\n",
       "    </g>\n",
       "</svg>\n",
       "      </button>\n",
       "\n",
       "<style>\n",
       "  .colab-df-quickchart {\n",
       "      --bg-color: #E8F0FE;\n",
       "      --fill-color: #1967D2;\n",
       "      --hover-bg-color: #E2EBFA;\n",
       "      --hover-fill-color: #174EA6;\n",
       "      --disabled-fill-color: #AAA;\n",
       "      --disabled-bg-color: #DDD;\n",
       "  }\n",
       "\n",
       "  [theme=dark] .colab-df-quickchart {\n",
       "      --bg-color: #3B4455;\n",
       "      --fill-color: #D2E3FC;\n",
       "      --hover-bg-color: #434B5C;\n",
       "      --hover-fill-color: #FFFFFF;\n",
       "      --disabled-bg-color: #3B4455;\n",
       "      --disabled-fill-color: #666;\n",
       "  }\n",
       "\n",
       "  .colab-df-quickchart {\n",
       "    background-color: var(--bg-color);\n",
       "    border: none;\n",
       "    border-radius: 50%;\n",
       "    cursor: pointer;\n",
       "    display: none;\n",
       "    fill: var(--fill-color);\n",
       "    height: 32px;\n",
       "    padding: 0;\n",
       "    width: 32px;\n",
       "  }\n",
       "\n",
       "  .colab-df-quickchart:hover {\n",
       "    background-color: var(--hover-bg-color);\n",
       "    box-shadow: 0 1px 2px rgba(60, 64, 67, 0.3), 0 1px 3px 1px rgba(60, 64, 67, 0.15);\n",
       "    fill: var(--button-hover-fill-color);\n",
       "  }\n",
       "\n",
       "  .colab-df-quickchart-complete:disabled,\n",
       "  .colab-df-quickchart-complete:disabled:hover {\n",
       "    background-color: var(--disabled-bg-color);\n",
       "    fill: var(--disabled-fill-color);\n",
       "    box-shadow: none;\n",
       "  }\n",
       "\n",
       "  .colab-df-spinner {\n",
       "    border: 2px solid var(--fill-color);\n",
       "    border-color: transparent;\n",
       "    border-bottom-color: var(--fill-color);\n",
       "    animation:\n",
       "      spin 1s steps(1) infinite;\n",
       "  }\n",
       "\n",
       "  @keyframes spin {\n",
       "    0% {\n",
       "      border-color: transparent;\n",
       "      border-bottom-color: var(--fill-color);\n",
       "      border-left-color: var(--fill-color);\n",
       "    }\n",
       "    20% {\n",
       "      border-color: transparent;\n",
       "      border-left-color: var(--fill-color);\n",
       "      border-top-color: var(--fill-color);\n",
       "    }\n",
       "    30% {\n",
       "      border-color: transparent;\n",
       "      border-left-color: var(--fill-color);\n",
       "      border-top-color: var(--fill-color);\n",
       "      border-right-color: var(--fill-color);\n",
       "    }\n",
       "    40% {\n",
       "      border-color: transparent;\n",
       "      border-right-color: var(--fill-color);\n",
       "      border-top-color: var(--fill-color);\n",
       "    }\n",
       "    60% {\n",
       "      border-color: transparent;\n",
       "      border-right-color: var(--fill-color);\n",
       "    }\n",
       "    80% {\n",
       "      border-color: transparent;\n",
       "      border-right-color: var(--fill-color);\n",
       "      border-bottom-color: var(--fill-color);\n",
       "    }\n",
       "    90% {\n",
       "      border-color: transparent;\n",
       "      border-bottom-color: var(--fill-color);\n",
       "    }\n",
       "  }\n",
       "</style>\n",
       "\n",
       "      <script>\n",
       "        async function quickchart(key) {\n",
       "          const quickchartButtonEl =\n",
       "            document.querySelector('#' + key + ' button');\n",
       "          quickchartButtonEl.disabled = true;  // To prevent multiple clicks.\n",
       "          quickchartButtonEl.classList.add('colab-df-spinner');\n",
       "          try {\n",
       "            const charts = await google.colab.kernel.invokeFunction(\n",
       "                'suggestCharts', [key], {});\n",
       "          } catch (error) {\n",
       "            console.error('Error during call to suggestCharts:', error);\n",
       "          }\n",
       "          quickchartButtonEl.classList.remove('colab-df-spinner');\n",
       "          quickchartButtonEl.classList.add('colab-df-quickchart-complete');\n",
       "        }\n",
       "        (() => {\n",
       "          let quickchartButtonEl =\n",
       "            document.querySelector('#df-2486b557-cdd0-40e9-913e-a1490f6cd40f button');\n",
       "          quickchartButtonEl.style.display =\n",
       "            google.colab.kernel.accessAllowed ? 'block' : 'none';\n",
       "        })();\n",
       "      </script>\n",
       "    </div>\n",
       "\n",
       "    </div>\n",
       "  </div>\n"
      ],
      "text/plain": [
       "   idx      uid                                           question  \\\n",
       "0    0  train-0  A 23-year-old pregnant woman at 22 weeks gesta...   \n",
       "1    1  train-1  A 3-month-old baby died suddenly at night whil...   \n",
       "2    2  train-2  A mother brings her 3-week-old infant to the p...   \n",
       "3    3  train-3  A pulmonary autopsy specimen from a 58-year-ol...   \n",
       "4    4  train-4  A 20-year-old woman presents with menorrhagia ...   \n",
       "\n",
       "                                             metamap  target  \\\n",
       "0  23 year old pregnant woman weeks presents burn...       3   \n",
       "1  3 month old baby died night asleep mother died...       0   \n",
       "2  mother week old infant pediatrician's office c...       0   \n",
       "3  pulmonary autopsy specimen 58 year old woman d...       0   \n",
       "4  20 year old woman presents menorrhagia past ye...       3   \n",
       "\n",
       "                                             answers  \n",
       "0  [Ampicillin, Ceftriaxone, Doxycycline, Nitrofu...  \n",
       "1  [Placing the infant in a supine position on a ...  \n",
       "2  [Abnormal migration of ventral pancreatic bud,...  \n",
       "3  [Thromboembolism, Pulmonary ischemia, Pulmonar...  \n",
       "4  [Hemophilia A, Lupus anticoagulant, Protein C ...  "
      ]
     },
     "execution_count": 7,
     "metadata": {},
     "output_type": "execute_result"
    }
   ],
   "source": [
    "train_data.head()"
   ]
  },
  {
   "cell_type": "markdown",
   "metadata": {
    "id": "1IAfNNtH_1FY"
   },
   "source": [
    "# **BIOGPT - ZERO SHOT PROMPTING**"
   ]
  },
  {
   "cell_type": "code",
   "execution_count": 9,
   "metadata": {
    "colab": {
     "base_uri": "https://localhost:8080/",
     "height": 1000,
     "referenced_widgets": [
      "478488d387f2492cbc78d60cc1bb9fd4",
      "e4a1a6d616154bd3802b619024b4da3d",
      "3e2e231809a346259772973534491279",
      "c8062d938cad4872a76f80d858790bad",
      "70f2e27db5524789a4199aa7f5a40a67",
      "c708c8e40209496084075f44d02eca15",
      "d947fb56b6314a5a8cf519e671070ed8",
      "2b3bc07a107b4b1aab262e77617cc99b",
      "5998e80cce924bbf81eda290e73edd59",
      "e824d8f7475a4afbbb09a39e1e3fa15c",
      "e7dd0f7810344c7692b2038bc72df5ab",
      "707c4991cf174f27976790a4aae97843",
      "a51ff7b5944145e0a90b1e28cca21b0d",
      "fb2c61f74d0f45989511bc9845ca45a0",
      "5ac274afa1294b9b8cbc6ee218948e3e",
      "83dff68ff34147d8813ac1428e3c38b0",
      "344316230e4a4302a7c589f3ccf436b3",
      "8c449c743fe941b6afc380eb2ee9a0c8",
      "23656b0bbff34c8796135615e8e2fe88",
      "7a158291e3fb425e9f0601cb98578431",
      "cca2eaf97e9b43ef993a601e483862ac",
      "7b7a02460c904949870b60a03c93d8b2",
      "91e5b81bdbae4bdc844f8b2c2297f605",
      "9f761e3609f44366ab70d69efd0ff71a",
      "047865b0269840b193d9e87e71bc7d2f",
      "1bcf633e22fc4c52b556af72f99fcb24",
      "2afd29d078a14d82993ed8ccc54b8cfa",
      "354433398a5742169359ca0ad13dc8f7",
      "2fdfef22fb5849b5907b1869f28b686c",
      "218a436816024cf3b93ac23e4df6b9e0",
      "d7e50346870f47b497085aa12abe8a5f",
      "94da4c4579214656bd4c3fa2d1a8a814",
      "3bdddbdf822a4e4a9b969da19b0bfff7",
      "972eedb5d4dd4e0081ee4c043864192d",
      "c512a1185a9e41478692e2f165104800",
      "cfd72b8ea51646e082215ce7e32d379a",
      "de01f6631ced4cec8949359ddbc823cd",
      "53207775f0014e2ab584b145607f2e87",
      "e3ce08b7f2e64a74bb01504c411d33f6",
      "93b2c9a48901470fa21d7068e04d3ce2",
      "272e3bd7288b4895bda4d7234eb60c60",
      "dda48d93b2204e4da5ff668f10df6030",
      "2c7f5f5752de48f7a3d1296de46275aa",
      "cee8ea808ced4ae3ad3c2bf98bbc8958",
      "d887679fbbb6482eb9a72099bc5b3007",
      "79874f50c8f0450aa1b20b0c581746fe",
      "df39b68ef563425fadd4773c870a2f00",
      "c7b6012ac7b44922a2e95e92dce98b18",
      "254bb134b6c64b2797d5c815a7baa5e4",
      "c87d7f7aa2d247e6b4da8ff25bbb1e9e",
      "0e4e96167d7c45e6875ac5f749e738da",
      "51f80291248c4b99bfbebc8a57c7752c",
      "6990d30abcca4d55b6436832d07cf9a2",
      "70a1fd21675d4a92bb418c1262ae5e03",
      "450d1b5595d640d3bef1471b9e543fd3",
      "2ca0ca55e817426a957ff8681eb2632c",
      "b3a1573f93f54bea9995cc722d4ea510",
      "f2463ffdca51467596169bd17c4837a3",
      "32aceda783334e348f29609baf83724d",
      "de9aa58d6b4144c893447ecfdce49e01",
      "11247163d3b946f798946d8f42230316",
      "338e80d1d49a4fedb6462827a906b2cc",
      "a721dab055694af38ce7bf13611c7bb0",
      "574ebd0aba9943d1810b8ba892b91ae3",
      "65c8c4de00d04b628d873110d8536d8a",
      "429e71da06404a75a9b47a98eb530c94",
      "6a8f84b74b67480e983b33e0dffd3a5a",
      "276e609534c34e9f94a9d2075a92a037",
      "e32bcb7736d1494cb58af89c12214dea",
      "08fe7c10dc954deea320b7e95da045f7",
      "a8c8d3688d3d4d1d837be9f87f3e414b",
      "574b78f926254d0fab6d37875edb066f",
      "51684c29ab3f4c08b59a6315fc5e588f",
      "4eed3f176d254d869de650033e9b17b9",
      "2895531be549473e91edb62c63c19e91",
      "d169f3ac9b964827b6df48c6e5c8d806",
      "fc63d1944178495d913124764bb8c69c",
      "d6140b356189458db6800016c02bcaf3",
      "4d95e8d6595c40f7bc270a03f9951dd2",
      "4ec86c7cb1914be2a7dc60b1c410fc6a",
      "b8c06b7f46e54e92ad87161bff6c1de2",
      "e72dda4c15ea4266941a2c4c5e29ce03",
      "7ebdae660e2146389920658249f3ea95",
      "f193063a7789442789bff5234c0a02fb",
      "893c15efec28407a8a53e0bbc75ad3f8",
      "1792eb1f10494ec5ba78bbc84a8c3428",
      "5915c10d7764485e8932cf747c50ca8f",
      "dc49f4bdba604be2b9fdf8daf1143f7e",
      "9f311c065a564738845e8dcaba6d5c44",
      "4eeb188f4a524ae48b81fe2dbf1f0874",
      "173427e8c0464eb7ad0fee21b8745ce2",
      "5efda53a535140388b69d3a2dcceec32",
      "2723662820ea4229874218da5851035a",
      "ae88b7240d9c400fa23440d9b0cdcb1d",
      "0e3b7011da1a48c3a9c1142541f6afe6",
      "5006be09273d4676a25cd6cf2288c296",
      "13d2ed09acb047f681389f3f378edf7b",
      "6335c200317a45248b96b4ccc0b9e76c",
      "c6b4d6b61f2149a4934c40d7569fcaaf",
      "8d62d3ee5c534d42ba65c5136b21dc24",
      "416f94d4e7bc40c3a0da97601339a14b",
      "d27fe487f7814a88a8a71b880bdf65cc",
      "3baf78c5ad7a47e8a424651454861568",
      "ad5c0da99cad4ec2a0ab821e51e286eb",
      "38c8d8315315486ab868f5b11b176cac",
      "2fa6a22e5aa4441ab6f5b772e8a27cd8",
      "3edd1c5e7d394812bf1f69d237acfc8a",
      "afe6ca22b25a4e6fa5c0926de16e4a99",
      "a6ab5bda16ca4613bb19c93ba6258b07",
      "e31299ec9c124495aeac822e1036c300",
      "fe42125cac6f407ea4ffb9841424c3f5",
      "aba761d15f4043f19a0a1dcb16b56c94",
      "246bd11d8d534651b88025f2c8455d1c",
      "5efe8a4271dd4202ac037452d4225ee9",
      "6c68f6b4073148ab9f8a47b11dd4c415",
      "8c8341e14bb04ba4a4f1791ca3b98f48",
      "7e8982d307c34bef9feeccf570eafdd7",
      "8b6d2a53d54c478f9d205a051e7eeeb2",
      "d7d34a96ae7541808c5d341f7f9d26e1",
      "be04adc1d8394ed0a42f098f277eacdb",
      "8ac3e4d9a2684770964926d9d85d96d5",
      "45e38285ad904fde824835ff12335032",
      "cb38ffd4c3744d098df5bb644a8ee51f",
      "511468cecac04f589ce88f2f13778c56",
      "fe82bbe8e8a645c98c5b19b9bd016518",
      "83e5ac38087942afaba1a11647390fd9",
      "fb10625b08254d28a76fdc3b5d3b7108",
      "fc6e28640ae64ccf9f210aa59f289ac1",
      "10a2542e0aa342d4958905cb69f434e3",
      "161b4299c2f74063a487f12c9428c02a",
      "e6d015eaa61a48489908907ed6d12d27",
      "71efda8cf27746e4a24918a7c402e4e6",
      "aa8c77997644437cadc6060948d0184e",
      "54e26af650af4266b0c8e19997874716",
      "3c10922548c34a578b52b1af2d82c620",
      "637c7659bcf84db0b42c69ca2b11cb9e",
      "a7381ef6ea48419ca0d7209cb83024c2",
      "fe132b126fe549b7bbecce0815fbf3cd",
      "1ebe1faf17ba4fd79072df3e2bb84935",
      "b303c6cc70254872b2d67d81580a9926",
      "a72698709cb84db19ee7107b9d7a24d6",
      "6e5760afa3c149b88ae2ae3aa7a8fac1",
      "5f76d7079f714201a06f41b1a4a30afc",
      "bb0d39f38fe04d70a5bc73ddb92b7847",
      "063f5e181de04597b39242996f3ddcb0",
      "e0f001da4dfd4d4e853d477082a3c308",
      "4dc59973d8194af9b4e6187ade208776",
      "a420eeeb493e4eda802ac959c46129e0",
      "58118cb0bfd7446d97e7ff11df64c872",
      "8be5917ebdae4ac384952353e9b6d8d0",
      "a78f230e988d4d7dbe84f9c7a5d0a918",
      "21a97517fab441cbad6fd5e92e24e4e9",
      "524ca2244740465f87cf71ee7e18fa7e",
      "e64d48520aed45fea2fd17b46afbe5ef"
     ]
    },
    "id": "v3ro-rSiWqGn",
    "outputId": "3703e0df-a4c6-4ab8-e1d3-fe21197c19fe"
   },
   "outputs": [
    {
     "data": {
      "application/vnd.jupyter.widget-view+json": {
       "model_id": "478488d387f2492cbc78d60cc1bb9fd4",
       "version_major": 2,
       "version_minor": 0
      },
      "text/plain": [
       "vocab.json:   0%|          | 0.00/927k [00:00<?, ?B/s]"
      ]
     },
     "metadata": {},
     "output_type": "display_data"
    },
    {
     "data": {
      "application/vnd.jupyter.widget-view+json": {
       "model_id": "707c4991cf174f27976790a4aae97843",
       "version_major": 2,
       "version_minor": 0
      },
      "text/plain": [
       "merges.txt:   0%|          | 0.00/696k [00:00<?, ?B/s]"
      ]
     },
     "metadata": {},
     "output_type": "display_data"
    },
    {
     "data": {
      "application/vnd.jupyter.widget-view+json": {
       "model_id": "91e5b81bdbae4bdc844f8b2c2297f605",
       "version_major": 2,
       "version_minor": 0
      },
      "text/plain": [
       "modules.json:   0%|          | 0.00/229 [00:00<?, ?B/s]"
      ]
     },
     "metadata": {},
     "output_type": "display_data"
    },
    {
     "data": {
      "application/vnd.jupyter.widget-view+json": {
       "model_id": "972eedb5d4dd4e0081ee4c043864192d",
       "version_major": 2,
       "version_minor": 0
      },
      "text/plain": [
       "config_sentence_transformers.json:   0%|          | 0.00/124 [00:00<?, ?B/s]"
      ]
     },
     "metadata": {},
     "output_type": "display_data"
    },
    {
     "data": {
      "application/vnd.jupyter.widget-view+json": {
       "model_id": "d887679fbbb6482eb9a72099bc5b3007",
       "version_major": 2,
       "version_minor": 0
      },
      "text/plain": [
       "README.md:   0%|          | 0.00/4.47k [00:00<?, ?B/s]"
      ]
     },
     "metadata": {},
     "output_type": "display_data"
    },
    {
     "data": {
      "application/vnd.jupyter.widget-view+json": {
       "model_id": "2ca0ca55e817426a957ff8681eb2632c",
       "version_major": 2,
       "version_minor": 0
      },
      "text/plain": [
       "sentence_bert_config.json:   0%|          | 0.00/53.0 [00:00<?, ?B/s]"
      ]
     },
     "metadata": {},
     "output_type": "display_data"
    },
    {
     "data": {
      "application/vnd.jupyter.widget-view+json": {
       "model_id": "6a8f84b74b67480e983b33e0dffd3a5a",
       "version_major": 2,
       "version_minor": 0
      },
      "text/plain": [
       "config.json:   0%|          | 0.00/691 [00:00<?, ?B/s]"
      ]
     },
     "metadata": {},
     "output_type": "display_data"
    },
    {
     "data": {
      "application/vnd.jupyter.widget-view+json": {
       "model_id": "d6140b356189458db6800016c02bcaf3",
       "version_major": 2,
       "version_minor": 0
      },
      "text/plain": [
       "pytorch_model.bin:   0%|          | 0.00/433M [00:00<?, ?B/s]"
      ]
     },
     "metadata": {},
     "output_type": "display_data"
    },
    {
     "data": {
      "application/vnd.jupyter.widget-view+json": {
       "model_id": "9f311c065a564738845e8dcaba6d5c44",
       "version_major": 2,
       "version_minor": 0
      },
      "text/plain": [
       "tokenizer_config.json:   0%|          | 0.00/412 [00:00<?, ?B/s]"
      ]
     },
     "metadata": {},
     "output_type": "display_data"
    },
    {
     "data": {
      "application/vnd.jupyter.widget-view+json": {
       "model_id": "8d62d3ee5c534d42ba65c5136b21dc24",
       "version_major": 2,
       "version_minor": 0
      },
      "text/plain": [
       "vocab.txt:   0%|          | 0.00/213k [00:00<?, ?B/s]"
      ]
     },
     "metadata": {},
     "output_type": "display_data"
    },
    {
     "data": {
      "application/vnd.jupyter.widget-view+json": {
       "model_id": "fe42125cac6f407ea4ffb9841424c3f5",
       "version_major": 2,
       "version_minor": 0
      },
      "text/plain": [
       "model.safetensors:   0%|          | 0.00/433M [00:00<?, ?B/s]"
      ]
     },
     "metadata": {},
     "output_type": "display_data"
    },
    {
     "data": {
      "application/vnd.jupyter.widget-view+json": {
       "model_id": "45e38285ad904fde824835ff12335032",
       "version_major": 2,
       "version_minor": 0
      },
      "text/plain": [
       "tokenizer.json:   0%|          | 0.00/669k [00:00<?, ?B/s]"
      ]
     },
     "metadata": {},
     "output_type": "display_data"
    },
    {
     "data": {
      "application/vnd.jupyter.widget-view+json": {
       "model_id": "aa8c77997644437cadc6060948d0184e",
       "version_major": 2,
       "version_minor": 0
      },
      "text/plain": [
       "special_tokens_map.json:   0%|          | 0.00/112 [00:00<?, ?B/s]"
      ]
     },
     "metadata": {},
     "output_type": "display_data"
    },
    {
     "data": {
      "application/vnd.jupyter.widget-view+json": {
       "model_id": "bb0d39f38fe04d70a5bc73ddb92b7847",
       "version_major": 2,
       "version_minor": 0
      },
      "text/plain": [
       "config.json:   0%|          | 0.00/190 [00:00<?, ?B/s]"
      ]
     },
     "metadata": {},
     "output_type": "display_data"
    },
    {
     "name": "stderr",
     "output_type": "stream",
     "text": []
    },
    {
     "name": "stdout",
     "output_type": "stream",
     "text": [
      "\n",
      "✅ Zero-Shot BioGPT Accuracy: 0.2704\n",
      "🎯 Total Correct Predictions: 344 out of 1272\n",
      "\n",
      "              precision    recall  f1-score   support\n",
      "\n",
      "           A       0.28      0.27      0.27       330\n",
      "           B       0.28      0.28      0.28       316\n",
      "           C       0.29      0.27      0.28       352\n",
      "           D       0.23      0.27      0.24       274\n",
      "\n",
      "    accuracy                           0.27      1272\n",
      "   macro avg       0.27      0.27      0.27      1272\n",
      "weighted avg       0.27      0.27      0.27      1272\n",
      "\n"
     ]
    },
    {
     "data": {
      "image/png": "[encoded data removed]",
      "text/plain": [
       "<Figure size 800x600 with 2 Axes>"
      ]
     },
     "metadata": {},
     "output_type": "display_data"
    }
   ],
   "source": [
    "\n",
    "model_name = \"microsoft/BioGPT\"\n",
    "model = AutoModelForCausalLM.from_pretrained(model_name).to(\"cuda\" if torch.cuda.is_available() else \"cpu\")\n",
    "tokenizer = AutoTokenizer.from_pretrained(model_name)\n",
    "tokenizer.padding_side = \"left\"\n",
    "\n",
    "# Freeze model (no training)\n",
    "for param in model.parameters():\n",
    "    param.requires_grad = False\n",
    "\n",
    "# ------------------ Sentence encoder for similarity matching ------------------\n",
    "encoder = SentenceTransformer(\"pritamdeka/BioBERT-mnli-snli-scinli-scitail-mednli-stsb\")\n",
    "\n",
    "LETTER_MAP = [\"A\", \"B\", \"C\", \"D\"]\n",
    "\n",
    "# ------------------ Prompt Format ------------------\n",
    "def build_zero_shot_prompt(example):\n",
    "    answers = example['answers'].tolist() if hasattr(example['answers'], 'tolist') else example['answers']\n",
    "    return (\n",
    "        \"You are a helpful biomedical assistant. Read the following multiple-choice question carefully and select the correct answer based only on the information provided.\\n\\n\"\n",
    "        f\"Question: {example['question']}\\n\"\n",
    "        f\"Options:\\n\"\n",
    "        f\"A: {answers[0]}\\n\"\n",
    "        f\"B: {answers[1]}\\n\"\n",
    "        f\"C: {answers[2]}\\n\"\n",
    "        f\"D: {answers[3]}\\n\"\n",
    "        \"Answer (only generate a single letter from A, B, C, D corresponding to the correct answer):\"\n",
    "    )\n",
    "\n",
    "# ------------------ Zero-Shot Evaluation ------------------\n",
    "def evaluate_biogpt_zeroshot(model, tokenizer, encoder, val_data, max_length=512):\n",
    "    predictions = []\n",
    "    gold_labels = []\n",
    "\n",
    "    for example in tqdm(val_data, desc=\"Zero-shot BioBGPT Evaluation\", dynamic_ncols=True, leave=False):\n",
    "        prompt = build_zero_shot_prompt(example)\n",
    "\n",
    "        inputs = tokenizer(prompt, return_tensors=\"pt\", padding=\"max_length\", truncation=True, max_length=max_length).to(model.device)\n",
    "\n",
    "        with torch.no_grad():\n",
    "            outputs = model.generate(**inputs, max_new_tokens=64)\n",
    "\n",
    "        decoded = tokenizer.decode(outputs[0], skip_special_tokens=True)\n",
    "\n",
    "        # Extract generated answer\n",
    "        generated_answer = decoded.split(\"Answer:\")[-1].strip().lower()\n",
    "\n",
    "        # Match generated text to closest option\n",
    "        options = example['answers'].tolist() if hasattr(example['answers'], 'tolist') else example['answers']\n",
    "        answer_embedding = encoder.encode(generated_answer, convert_to_tensor=True)\n",
    "        option_embeddings = encoder.encode([a.lower() for a in options], convert_to_tensor=True)\n",
    "        sim = util.cos_sim(answer_embedding, option_embeddings)\n",
    "        pred_idx = torch.argmax(sim).item()\n",
    "\n",
    "        predictions.append(LETTER_MAP[pred_idx])\n",
    "        gold_labels.append(LETTER_MAP[example['target']])\n",
    "\n",
    "    return predictions, gold_labels\n",
    "\n",
    "# ------------------ Run Evaluation ------------------\n",
    "val_records = validation_data.to_dict(orient=\"records\")\n",
    "\n",
    "predictions, gold_labels = evaluate_biogpt_zeroshot(model, tokenizer, encoder, val_records)\n",
    "\n",
    "# ------------------ Metrics ------------------\n",
    "# Accuracy\n",
    "accuracy = accuracy_score(gold_labels, predictions)\n",
    "total_correct = sum(p == g for p, g in zip(predictions, gold_labels))\n",
    "total_samples = len(gold_labels)\n",
    "\n",
    "# Print Results\n",
    "print(f\"\\n✅ Zero-Shot BioGPT Accuracy: {accuracy:.4f}\")\n",
    "print(f\"🎯 Total Correct Predictions: {total_correct} out of {total_samples}\\n\")\n",
    "\n",
    "# Classification Report\n",
    "print(classification_report(gold_labels, predictions, labels=LETTER_MAP))\n",
    "\n",
    "# ------------------ Confusion Matrix ------------------\n",
    "# Compute confusion matrix\n",
    "cm = confusion_matrix(gold_labels, predictions, labels=LETTER_MAP)\n",
    "\n",
    "# Normalize\n",
    "cm_normalized = cm.astype('float') / cm.sum(axis=1)[:, np.newaxis] * 100\n",
    "\n",
    "# Convert to DataFrame\n",
    "cm_df = pd.DataFrame(cm_normalized, index=LETTER_MAP, columns=LETTER_MAP)\n",
    "\n",
    "# Plot\n",
    "plt.figure(figsize=(8, 6))\n",
    "sns.heatmap(cm_df, annot=True, fmt=\".1f\", cmap=\"YlGnBu\", linewidths=0.5, linecolor='gray')\n",
    "plt.title(\" Confusion Matrix (%) - BioGPT Zero-Shot\", fontsize=14)\n",
    "plt.xlabel(\"Predicted Label\", fontsize=12)\n",
    "plt.ylabel(\"True Label\", fontsize=12)\n",
    "plt.tight_layout()\n",
    "plt.show()\n"
   ]
  },
  {
   "cell_type": "markdown",
   "metadata": {
    "id": "oayrcsyWP_uT"
   },
   "source": [
    "# **BIOBART - ZERO SHOT PROMPTING**"
   ]
  },
  {
   "cell_type": "code",
   "execution_count": null,
   "metadata": {
    "colab": {
     "base_uri": "https://localhost:8080/",
     "height": 867
    },
    "id": "C1VeGJ4THEUq",
    "outputId": "df2bce29-ea84-4e27-cb68-5b7834683af7"
   },
   "outputs": [
    {
     "name": "stderr",
     "output_type": "stream",
     "text": []
    },
    {
     "name": "stdout",
     "output_type": "stream",
     "text": [
      "\n",
      "✅ Zero-Shot BioBART Accuracy: 0.2634\n",
      "🎯 Total Correct Predictions: 335 out of 1272\n",
      "\n",
      "              precision    recall  f1-score   support\n",
      "\n",
      "           A       0.27      0.40      0.33       330\n",
      "           B       0.27      0.26      0.26       316\n",
      "           C       0.30      0.18      0.23       352\n",
      "           D       0.21      0.21      0.21       274\n",
      "\n",
      "    accuracy                           0.26      1272\n",
      "   macro avg       0.26      0.26      0.26      1272\n",
      "weighted avg       0.27      0.26      0.26      1272\n",
      "\n"
     ]
    },
    {
     "data": {
      "image/png": "[encoded data removed]",
      "text/plain": [
       "<Figure size 800x600 with 2 Axes>"
      ]
     },
     "metadata": {},
     "output_type": "display_data"
    }
   ],
   "source": [
    "\n",
    "# ------------------ Load BioBART Model ------------------\n",
    "model = AutoModelForSeq2SeqLM.from_pretrained('GanjinZero/biobart-v2-base').to(\"cuda\" if torch.cuda.is_available() else \"cpu\")\n",
    "tokenizer = AutoTokenizer.from_pretrained('GanjinZero/biobart-v2-base')\n",
    "tokenizer.padding_side = \"left\"\n",
    "\n",
    "# Freeze model (no training)\n",
    "for param in model.parameters():\n",
    "    param.requires_grad = False\n",
    "\n",
    "# ------------------ Sentence encoder for similarity matching ------------------\n",
    "encoder = SentenceTransformer(\"pritamdeka/BioBERT-mnli-snli-scinli-scitail-mednli-stsb\")\n",
    "\n",
    "LETTER_MAP = [\"A\", \"B\", \"C\", \"D\"]\n",
    "\n",
    "# ------------------ Prompt Format ------------------\n",
    "def build_zero_shot_prompt(example):\n",
    "    answers = example['answers'].tolist() if hasattr(example['answers'], 'tolist') else example['answers']\n",
    "    return (\n",
    "        \"You are a helpful biomedical assistant. Read the following multiple-choice question carefully and select the correct answer based only on the information provided.\\n\\n\"\n",
    "        f\"Question: {example['question']}\\n\"\n",
    "        f\"Options:\\n\"\n",
    "        f\"A: {answers[0]}\\n\"\n",
    "        f\"B: {answers[1]}\\n\"\n",
    "        f\"C: {answers[2]}\\n\"\n",
    "        f\"D: {answers[3]}\\n\"\n",
    "        \"Answer (only generate a single letter from A, B, C, D corresponding to the correct answer):\"\n",
    "    )\n",
    "\n",
    "# ------------------ Zero-Shot Evaluation ------------------\n",
    "def evaluate_biobart_zeroshot(model, tokenizer, encoder, val_data, max_length=512):\n",
    "    predictions = []\n",
    "    gold_labels = []\n",
    "\n",
    "    for example in tqdm(val_data, desc=\"Zero-shot BioBART Evaluation\", dynamic_ncols=True, leave=False):\n",
    "        prompt = build_zero_shot_prompt(example)\n",
    "\n",
    "        inputs = tokenizer(prompt, return_tensors=\"pt\", padding=\"max_length\", truncation=True, max_length=max_length).to(model.device)\n",
    "\n",
    "        with torch.no_grad():\n",
    "            outputs = model.generate(**inputs, max_new_tokens=64)\n",
    "\n",
    "        decoded = tokenizer.decode(outputs[0], skip_special_tokens=True)\n",
    "\n",
    "        # Extract generated answer\n",
    "        generated_answer = decoded.split(\"Answer:\")[-1].strip().lower()\n",
    "\n",
    "        # Match generated text to closest option\n",
    "        options = example['answers'].tolist() if hasattr(example['answers'], 'tolist') else example['answers']\n",
    "        answer_embedding = encoder.encode(generated_answer, convert_to_tensor=True)\n",
    "        option_embeddings = encoder.encode([a.lower() for a in options], convert_to_tensor=True)\n",
    "        sim = util.cos_sim(answer_embedding, option_embeddings)\n",
    "        pred_idx = torch.argmax(sim).item()\n",
    "\n",
    "        predictions.append(LETTER_MAP[pred_idx])\n",
    "        gold_labels.append(LETTER_MAP[example['target']])\n",
    "\n",
    "    return predictions, gold_labels\n",
    "\n",
    "# ------------------ Run Evaluation ------------------\n",
    "val_records = validation_data.to_dict(orient=\"records\")\n",
    "\n",
    "predictions, gold_labels = evaluate_biobart_zeroshot(model, tokenizer, encoder, val_records)\n",
    "\n",
    "# ------------------ Metrics ------------------\n",
    "# Accuracy\n",
    "accuracy = accuracy_score(gold_labels, predictions)\n",
    "total_correct = sum(p == g for p, g in zip(predictions, gold_labels))\n",
    "total_samples = len(gold_labels)\n",
    "\n",
    "# Print Results\n",
    "print(f\"\\n✅ Zero-Shot BioBART Accuracy: {accuracy:.4f}\")\n",
    "print(f\"🎯 Total Correct Predictions: {total_correct} out of {total_samples}\\n\")\n",
    "\n",
    "# Classification Report\n",
    "print(classification_report(gold_labels, predictions, labels=LETTER_MAP))\n",
    "\n",
    "# ------------------ Confusion Matrix ------------------\n",
    "# Compute confusion matrix\n",
    "cm = confusion_matrix(gold_labels, predictions, labels=LETTER_MAP)\n",
    "\n",
    "# Normalize\n",
    "cm_normalized = cm.astype('float') / cm.sum(axis=1)[:, np.newaxis] * 100\n",
    "\n",
    "# Convert to DataFrame\n",
    "cm_df = pd.DataFrame(cm_normalized, index=LETTER_MAP, columns=LETTER_MAP)\n",
    "\n",
    "# Plot\n",
    "plt.figure(figsize=(8, 6))\n",
    "sns.heatmap(cm_df, annot=True, fmt=\".1f\", cmap=\"YlGnBu\", linewidths=0.5, linecolor='gray')\n",
    "plt.title(\" Confusion Matrix (%) - BioBART Zero-Shot\", fontsize=14)\n",
    "plt.xlabel(\"Predicted Label\", fontsize=12)\n",
    "plt.ylabel(\"True Label\", fontsize=12)\n",
    "plt.tight_layout()\n",
    "plt.show()\n"
   ]
  }
 ],
 "metadata": {
  "accelerator": "GPU",
  "colab": {
   "gpuType": "T4",
   "provenance": []
  },
  "kernelspec": {
   "display_name": "Python 3",
   "name": "python3"
  },
  "language_info": {
   "name": "python"
  }
 },
 "nbformat": 4,
 "nbformat_minor": 0
}
